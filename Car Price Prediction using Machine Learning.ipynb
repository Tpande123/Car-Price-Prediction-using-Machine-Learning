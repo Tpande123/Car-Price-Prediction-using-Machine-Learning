{
 "cells": [
  {
   "cell_type": "markdown",
   "id": "61147586",
   "metadata": {},
   "source": [
    "# Importing the Dependencies"
   ]
  },
  {
   "cell_type": "code",
   "execution_count": 1,
   "id": "2fc4e3e4",
   "metadata": {},
   "outputs": [],
   "source": [
    "import pandas as pd \n",
    "import matplotlib.pyplot as plt\n",
    "import seaborn as sns\n",
    "import numpy as np\n",
    "from sklearn.model_selection import train_test_split\n",
    "from sklearn.linear_model import LinearRegression\n",
    "from sklearn.linear_model import Lasso\n",
    "from sklearn import metrics\n",
    "from sklearn.preprocessing import PolynomialFeatures\n",
    "from sklearn.svm import SVR\n",
    "from sklearn.tree import DecisionTreeRegressor\n",
    "from sklearn.ensemble import RandomForestRegressor\n",
    "from sklearn.preprocessing import StandardScaler\n",
    "from xgboost import XGBRegressor\n",
    "from sklearn.compose import ColumnTransformer\n",
    "from sklearn.preprocessing import OneHotEncoder"
   ]
  },
  {
   "cell_type": "markdown",
   "id": "98d5bf30",
   "metadata": {},
   "source": [
    "# Data Collection, Data Processing and Analysis"
   ]
  },
  {
   "cell_type": "code",
   "execution_count": 2,
   "id": "39caacb6",
   "metadata": {},
   "outputs": [],
   "source": [
    "car_dataset = pd.read_csv('car data.csv')"
   ]
  },
  {
   "cell_type": "code",
   "execution_count": 3,
   "id": "4400e420",
   "metadata": {},
   "outputs": [
    {
     "data": {
      "text/plain": [
       "(301, 9)"
      ]
     },
     "execution_count": 3,
     "metadata": {},
     "output_type": "execute_result"
    }
   ],
   "source": [
    "car_dataset.shape"
   ]
  },
  {
   "cell_type": "code",
   "execution_count": 4,
   "id": "ca623615",
   "metadata": {},
   "outputs": [
    {
     "data": {
      "text/html": [
       "<div>\n",
       "<style scoped>\n",
       "    .dataframe tbody tr th:only-of-type {\n",
       "        vertical-align: middle;\n",
       "    }\n",
       "\n",
       "    .dataframe tbody tr th {\n",
       "        vertical-align: top;\n",
       "    }\n",
       "\n",
       "    .dataframe thead th {\n",
       "        text-align: right;\n",
       "    }\n",
       "</style>\n",
       "<table border=\"1\" class=\"dataframe\">\n",
       "  <thead>\n",
       "    <tr style=\"text-align: right;\">\n",
       "      <th></th>\n",
       "      <th>Car_Name</th>\n",
       "      <th>Year</th>\n",
       "      <th>Selling_Price</th>\n",
       "      <th>Present_Price</th>\n",
       "      <th>Kms_Driven</th>\n",
       "      <th>Fuel_Type</th>\n",
       "      <th>Seller_Type</th>\n",
       "      <th>Transmission</th>\n",
       "      <th>Owner</th>\n",
       "    </tr>\n",
       "  </thead>\n",
       "  <tbody>\n",
       "    <tr>\n",
       "      <th>0</th>\n",
       "      <td>ritz</td>\n",
       "      <td>2014</td>\n",
       "      <td>3.35</td>\n",
       "      <td>5.59</td>\n",
       "      <td>27000</td>\n",
       "      <td>Petrol</td>\n",
       "      <td>Dealer</td>\n",
       "      <td>Manual</td>\n",
       "      <td>0</td>\n",
       "    </tr>\n",
       "    <tr>\n",
       "      <th>1</th>\n",
       "      <td>sx4</td>\n",
       "      <td>2013</td>\n",
       "      <td>4.75</td>\n",
       "      <td>9.54</td>\n",
       "      <td>43000</td>\n",
       "      <td>Diesel</td>\n",
       "      <td>Dealer</td>\n",
       "      <td>Manual</td>\n",
       "      <td>0</td>\n",
       "    </tr>\n",
       "    <tr>\n",
       "      <th>2</th>\n",
       "      <td>ciaz</td>\n",
       "      <td>2017</td>\n",
       "      <td>7.25</td>\n",
       "      <td>9.85</td>\n",
       "      <td>6900</td>\n",
       "      <td>Petrol</td>\n",
       "      <td>Dealer</td>\n",
       "      <td>Manual</td>\n",
       "      <td>0</td>\n",
       "    </tr>\n",
       "    <tr>\n",
       "      <th>3</th>\n",
       "      <td>wagon r</td>\n",
       "      <td>2011</td>\n",
       "      <td>2.85</td>\n",
       "      <td>4.15</td>\n",
       "      <td>5200</td>\n",
       "      <td>Petrol</td>\n",
       "      <td>Dealer</td>\n",
       "      <td>Manual</td>\n",
       "      <td>0</td>\n",
       "    </tr>\n",
       "    <tr>\n",
       "      <th>4</th>\n",
       "      <td>swift</td>\n",
       "      <td>2014</td>\n",
       "      <td>4.60</td>\n",
       "      <td>6.87</td>\n",
       "      <td>42450</td>\n",
       "      <td>Diesel</td>\n",
       "      <td>Dealer</td>\n",
       "      <td>Manual</td>\n",
       "      <td>0</td>\n",
       "    </tr>\n",
       "  </tbody>\n",
       "</table>\n",
       "</div>"
      ],
      "text/plain": [
       "  Car_Name  Year  Selling_Price  Present_Price  Kms_Driven Fuel_Type  \\\n",
       "0     ritz  2014           3.35           5.59       27000    Petrol   \n",
       "1      sx4  2013           4.75           9.54       43000    Diesel   \n",
       "2     ciaz  2017           7.25           9.85        6900    Petrol   \n",
       "3  wagon r  2011           2.85           4.15        5200    Petrol   \n",
       "4    swift  2014           4.60           6.87       42450    Diesel   \n",
       "\n",
       "  Seller_Type Transmission  Owner  \n",
       "0      Dealer       Manual      0  \n",
       "1      Dealer       Manual      0  \n",
       "2      Dealer       Manual      0  \n",
       "3      Dealer       Manual      0  \n",
       "4      Dealer       Manual      0  "
      ]
     },
     "execution_count": 4,
     "metadata": {},
     "output_type": "execute_result"
    }
   ],
   "source": [
    "car_dataset.head()"
   ]
  },
  {
   "cell_type": "code",
   "execution_count": 5,
   "id": "32993aa5",
   "metadata": {},
   "outputs": [
    {
     "name": "stdout",
     "output_type": "stream",
     "text": [
      "<class 'pandas.core.frame.DataFrame'>\n",
      "RangeIndex: 301 entries, 0 to 300\n",
      "Data columns (total 9 columns):\n",
      " #   Column         Non-Null Count  Dtype  \n",
      "---  ------         --------------  -----  \n",
      " 0   Car_Name       301 non-null    object \n",
      " 1   Year           301 non-null    int64  \n",
      " 2   Selling_Price  301 non-null    float64\n",
      " 3   Present_Price  301 non-null    float64\n",
      " 4   Kms_Driven     301 non-null    int64  \n",
      " 5   Fuel_Type      301 non-null    object \n",
      " 6   Seller_Type    301 non-null    object \n",
      " 7   Transmission   301 non-null    object \n",
      " 8   Owner          301 non-null    int64  \n",
      "dtypes: float64(2), int64(3), object(4)\n",
      "memory usage: 21.3+ KB\n"
     ]
    }
   ],
   "source": [
    "car_dataset.info()"
   ]
  },
  {
   "cell_type": "code",
   "execution_count": 6,
   "id": "c9b71132",
   "metadata": {},
   "outputs": [
    {
     "data": {
      "text/plain": [
       "Car_Name         0\n",
       "Year             0\n",
       "Selling_Price    0\n",
       "Present_Price    0\n",
       "Kms_Driven       0\n",
       "Fuel_Type        0\n",
       "Seller_Type      0\n",
       "Transmission     0\n",
       "Owner            0\n",
       "dtype: int64"
      ]
     },
     "execution_count": 6,
     "metadata": {},
     "output_type": "execute_result"
    }
   ],
   "source": [
    "car_dataset.isnull().sum()"
   ]
  },
  {
   "cell_type": "code",
   "execution_count": 7,
   "id": "60017034",
   "metadata": {},
   "outputs": [
    {
     "name": "stdout",
     "output_type": "stream",
     "text": [
      "Petrol    239\n",
      "Diesel     60\n",
      "CNG         2\n",
      "Name: Fuel_Type, dtype: int64\n",
      "Dealer        195\n",
      "Individual    106\n",
      "Name: Seller_Type, dtype: int64\n",
      "Manual       261\n",
      "Automatic     40\n",
      "Name: Transmission, dtype: int64\n",
      "0    290\n",
      "1     10\n",
      "3      1\n",
      "Name: Owner, dtype: int64\n",
      "2015    61\n",
      "2016    50\n",
      "2014    38\n",
      "2017    35\n",
      "2013    33\n",
      "2012    23\n",
      "2011    19\n",
      "2010    15\n",
      "2008     7\n",
      "2009     6\n",
      "2006     4\n",
      "2005     4\n",
      "2003     2\n",
      "2007     2\n",
      "2018     1\n",
      "2004     1\n",
      "Name: Year, dtype: int64\n"
     ]
    }
   ],
   "source": [
    "print(car_dataset['Fuel_Type'].value_counts())\n",
    "print(car_dataset['Seller_Type'].value_counts())\n",
    "print(car_dataset['Transmission'].value_counts())\n",
    "print(car_dataset['Owner'].value_counts())\n",
    "print(car_dataset['Year'].value_counts())"
   ]
  },
  {
   "cell_type": "code",
   "execution_count": 8,
   "id": "af215862",
   "metadata": {},
   "outputs": [],
   "source": [
    "X = car_dataset.drop(columns = ['Car_Name', 'Selling_Price'], axis = 1)\n",
    "Y = car_dataset['Selling_Price']"
   ]
  },
  {
   "cell_type": "code",
   "execution_count": 9,
   "id": "58643382",
   "metadata": {},
   "outputs": [
    {
     "name": "stdout",
     "output_type": "stream",
     "text": [
      "     Year  Present_Price  Kms_Driven Fuel_Type Seller_Type Transmission  Owner\n",
      "0    2014           5.59       27000    Petrol      Dealer       Manual      0\n",
      "1    2013           9.54       43000    Diesel      Dealer       Manual      0\n",
      "2    2017           9.85        6900    Petrol      Dealer       Manual      0\n",
      "3    2011           4.15        5200    Petrol      Dealer       Manual      0\n",
      "4    2014           6.87       42450    Diesel      Dealer       Manual      0\n",
      "..    ...            ...         ...       ...         ...          ...    ...\n",
      "296  2016          11.60       33988    Diesel      Dealer       Manual      0\n",
      "297  2015           5.90       60000    Petrol      Dealer       Manual      0\n",
      "298  2009          11.00       87934    Petrol      Dealer       Manual      0\n",
      "299  2017          12.50        9000    Diesel      Dealer       Manual      0\n",
      "300  2016           5.90        5464    Petrol      Dealer       Manual      0\n",
      "\n",
      "[301 rows x 7 columns]\n"
     ]
    }
   ],
   "source": [
    "print(X)"
   ]
  },
  {
   "cell_type": "code",
   "execution_count": 10,
   "id": "446a7c07",
   "metadata": {},
   "outputs": [],
   "source": [
    "X = np.array(X)"
   ]
  },
  {
   "cell_type": "code",
   "execution_count": 11,
   "id": "eb9cee06",
   "metadata": {},
   "outputs": [
    {
     "name": "stdout",
     "output_type": "stream",
     "text": [
      "[[2014 5.59 27000 ... 'Dealer' 'Manual' 0]\n",
      " [2013 9.54 43000 ... 'Dealer' 'Manual' 0]\n",
      " [2017 9.85 6900 ... 'Dealer' 'Manual' 0]\n",
      " ...\n",
      " [2009 11.0 87934 ... 'Dealer' 'Manual' 0]\n",
      " [2017 12.5 9000 ... 'Dealer' 'Manual' 0]\n",
      " [2016 5.9 5464 ... 'Dealer' 'Manual' 0]]\n"
     ]
    }
   ],
   "source": [
    "print(X)"
   ]
  },
  {
   "cell_type": "code",
   "execution_count": 12,
   "id": "5b9a297c",
   "metadata": {},
   "outputs": [],
   "source": [
    "ct = ColumnTransformer(transformers = [('encoder', OneHotEncoder(), [3, 4, 5])], remainder = 'passthrough')\n",
    "\n",
    "X = ct.fit_transform(X)"
   ]
  },
  {
   "cell_type": "code",
   "execution_count": 13,
   "id": "62f896ea",
   "metadata": {},
   "outputs": [
    {
     "name": "stdout",
     "output_type": "stream",
     "text": [
      "[[0.0 0.0 1.0 ... 5.59 27000 0]\n",
      " [0.0 1.0 0.0 ... 9.54 43000 0]\n",
      " [0.0 0.0 1.0 ... 9.85 6900 0]\n",
      " ...\n",
      " [0.0 0.0 1.0 ... 11.0 87934 0]\n",
      " [0.0 1.0 0.0 ... 12.5 9000 0]\n",
      " [0.0 0.0 1.0 ... 5.9 5464 0]]\n"
     ]
    }
   ],
   "source": [
    "print(X)"
   ]
  },
  {
   "cell_type": "code",
   "execution_count": 14,
   "id": "8f17b142",
   "metadata": {},
   "outputs": [
    {
     "name": "stdout",
     "output_type": "stream",
     "text": [
      "0       3.35\n",
      "1       4.75\n",
      "2       7.25\n",
      "3       2.85\n",
      "4       4.60\n",
      "       ...  \n",
      "296     9.50\n",
      "297     4.00\n",
      "298     3.35\n",
      "299    11.50\n",
      "300     5.30\n",
      "Name: Selling_Price, Length: 301, dtype: float64\n"
     ]
    }
   ],
   "source": [
    "print(Y)"
   ]
  },
  {
   "cell_type": "markdown",
   "id": "af6f01c8",
   "metadata": {},
   "source": [
    "Splitting Training and Test data"
   ]
  },
  {
   "cell_type": "code",
   "execution_count": 15,
   "id": "269a5ac6",
   "metadata": {},
   "outputs": [],
   "source": [
    "X_train, X_test, Y_train, Y_test = train_test_split(X, Y, test_size = 0.1, random_state = 2)"
   ]
  },
  {
   "cell_type": "code",
   "execution_count": 16,
   "id": "914ebe0f",
   "metadata": {},
   "outputs": [
    {
     "name": "stdout",
     "output_type": "stream",
     "text": [
      "(301, 11) (270, 11) (31, 11)\n"
     ]
    }
   ],
   "source": [
    "print(X.shape, X_train.shape, X_test.shape)"
   ]
  },
  {
   "cell_type": "code",
   "execution_count": 17,
   "id": "251dc80a",
   "metadata": {},
   "outputs": [
    {
     "name": "stdout",
     "output_type": "stream",
     "text": [
      "[[0.0 0.0 1.0 ... 4.43 28282 0]\n",
      " [0.0 0.0 1.0 ... 7.6 17000 0]\n",
      " [0.0 0.0 1.0 ... 13.6 21780 0]\n",
      " ...\n",
      " [0.0 0.0 1.0 ... 18.61 56001 0]\n",
      " [0.0 1.0 0.0 ... 10.79 43000 0]\n",
      " [0.0 0.0 1.0 ... 0.73 12000 0]]\n"
     ]
    }
   ],
   "source": [
    "print(X_train)"
   ]
  },
  {
   "cell_type": "code",
   "execution_count": 18,
   "id": "0c07b1b9",
   "metadata": {},
   "outputs": [
    {
     "name": "stdout",
     "output_type": "stream",
     "text": [
      "[[0.0 1.0 0.0 1.0 0.0 0.0 1.0 2010 20.45 50024 0]\n",
      " [0.0 0.0 1.0 0.0 1.0 0.0 1.0 2014 0.826 23000 0]\n",
      " [0.0 0.0 1.0 1.0 0.0 0.0 1.0 2014 6.76 40000 0]\n",
      " [0.0 1.0 0.0 1.0 0.0 0.0 1.0 2012 5.98 51439 0]\n",
      " [0.0 0.0 1.0 1.0 0.0 1.0 0.0 2015 14.79 12900 0]\n",
      " [0.0 0.0 1.0 1.0 0.0 0.0 1.0 2014 6.4 19000 0]\n",
      " [1.0 0.0 0.0 1.0 0.0 0.0 1.0 2011 7.74 49998 0]\n",
      " [0.0 1.0 0.0 1.0 0.0 0.0 1.0 2015 8.61 33429 0]\n",
      " [0.0 0.0 1.0 0.0 1.0 0.0 1.0 2013 0.47 21000 0]\n",
      " [0.0 0.0 1.0 1.0 0.0 0.0 1.0 2015 7.71 26000 0]\n",
      " [0.0 0.0 1.0 1.0 0.0 0.0 1.0 2015 10.0 18828 0]\n",
      " [0.0 1.0 0.0 1.0 0.0 0.0 1.0 2014 6.95 45000 0]\n",
      " [0.0 0.0 1.0 0.0 1.0 1.0 0.0 2014 0.52 19000 0]\n",
      " [0.0 0.0 1.0 1.0 0.0 0.0 1.0 2015 13.6 25000 0]\n",
      " [0.0 0.0 1.0 1.0 0.0 0.0 1.0 2011 4.43 57000 0]\n",
      " [0.0 0.0 1.0 0.0 1.0 0.0 1.0 2016 0.95 500 0]\n",
      " [0.0 0.0 1.0 0.0 1.0 0.0 1.0 2017 0.87 11000 0]\n",
      " [0.0 0.0 1.0 0.0 1.0 0.0 1.0 2017 0.52 15000 0]\n",
      " [0.0 1.0 0.0 1.0 0.0 0.0 1.0 2015 13.6 68000 0]\n",
      " [0.0 0.0 1.0 1.0 0.0 0.0 1.0 2015 5.8 40023 0]\n",
      " [0.0 0.0 1.0 0.0 1.0 0.0 1.0 2014 2.4 7000 0]\n",
      " [0.0 1.0 0.0 1.0 0.0 0.0 1.0 2014 14.0 63000 0]\n",
      " [0.0 0.0 1.0 0.0 1.0 0.0 1.0 2016 0.54 14000 0]\n",
      " [0.0 0.0 1.0 1.0 0.0 1.0 0.0 2016 13.6 30753 0]\n",
      " [0.0 0.0 1.0 0.0 1.0 0.0 1.0 2014 0.88 8000 0]\n",
      " [0.0 1.0 0.0 1.0 0.0 0.0 1.0 2015 10.38 45000 0]\n",
      " [0.0 0.0 1.0 0.0 1.0 0.0 1.0 2016 0.8 20000 0]\n",
      " [0.0 0.0 1.0 0.0 1.0 0.0 1.0 2007 0.75 49000 1]\n",
      " [0.0 0.0 1.0 1.0 0.0 0.0 1.0 2016 4.43 12500 0]\n",
      " [0.0 0.0 1.0 1.0 0.0 0.0 1.0 2011 4.15 5200 0]\n",
      " [0.0 0.0 1.0 0.0 1.0 1.0 0.0 2017 0.51 4000 0]]\n"
     ]
    }
   ],
   "source": [
    "print(X_test)"
   ]
  },
  {
   "cell_type": "code",
   "execution_count": 19,
   "id": "b1b8ed87",
   "metadata": {},
   "outputs": [],
   "source": [
    "ss = StandardScaler()\n",
    "\n",
    "X_train = ss.fit_transform(X_train)\n",
    "X_test = ss.transform(X_test)"
   ]
  },
  {
   "cell_type": "code",
   "execution_count": 20,
   "id": "ebd49125",
   "metadata": {},
   "outputs": [
    {
     "name": "stdout",
     "output_type": "stream",
     "text": [
      "[[-0.06097108 -0.49420606  0.5        ... -0.37855906 -0.23844681\n",
      "  -0.17474081]\n",
      " [-0.06097108 -0.49420606  0.5        ... -0.02276125 -0.51776898\n",
      "  -0.17474081]\n",
      " [-0.06097108 -0.49420606  0.5        ...  0.6506731  -0.39942472\n",
      "  -0.17474081]\n",
      " ...\n",
      " [-0.06097108 -0.49420606  0.5        ...  1.21299078  0.44782611\n",
      "  -0.17474081]\n",
      " [-0.06097108  2.02344746 -2.         ...  0.33528135  0.12594457\n",
      "  -0.17474081]\n",
      " [-0.06097108 -0.49420606  0.5        ... -0.79384358 -0.64156005\n",
      "  -0.17474081]]\n"
     ]
    }
   ],
   "source": [
    "print(X_train)"
   ]
  },
  {
   "cell_type": "code",
   "execution_count": 21,
   "id": "40b76d04",
   "metadata": {},
   "outputs": [
    {
     "name": "stdout",
     "output_type": "stream",
     "text": [
      "[[-6.09710761e-02  2.02344746e+00 -2.00000000e+00  7.30815236e-01\n",
      "  -7.30815236e-01 -3.92232270e-01  3.92232270e-01 -1.21068465e+00\n",
      "   1.41951065e+00  2.99846267e-01 -1.74740811e-01]\n",
      " [-6.09710761e-02 -4.94206062e-01  5.00000000e-01 -1.36833491e+00\n",
      "   1.36833491e+00 -3.92232270e-01  3.92232270e-01  1.45684045e-01\n",
      "  -7.83068631e-01 -3.69219698e-01 -1.74740811e-01]\n",
      " [-6.09710761e-02 -4.94206062e-01  5.00000000e-01  7.30815236e-01\n",
      "  -7.30815236e-01 -3.92232270e-01  3.92232270e-01  1.45684045e-01\n",
      "  -1.17042059e-01  5.16699334e-02 -1.74740811e-01]\n",
      " [-6.09710761e-02  2.02344746e+00 -2.00000000e+00  7.30815236e-01\n",
      "  -7.30815236e-01 -3.92232270e-01  3.92232270e-01 -5.32500301e-01\n",
      "  -2.04588524e-01  3.34879139e-01 -1.74740811e-01]\n",
      " [-6.09710761e-02 -4.94206062e-01  5.00000000e-01  7.30815236e-01\n",
      "  -7.30815236e-01  2.54950976e+00 -2.54950976e+00  4.84776217e-01\n",
      "   7.84237580e-01 -6.19277656e-01 -1.74740811e-01]\n",
      " [-6.09710761e-02 -4.94206062e-01  5.00000000e-01  7.30815236e-01\n",
      "  -7.30815236e-01 -3.92232270e-01  3.92232270e-01  1.45684045e-01\n",
      "  -1.57448120e-01 -4.68252553e-01 -1.74740811e-01]\n",
      " [ 1.64012195e+01 -4.94206062e-01 -2.00000000e+00  7.30815236e-01\n",
      "  -7.30815236e-01 -3.92232270e-01  3.92232270e-01 -8.71592474e-01\n",
      "  -7.04778147e-03  2.99202553e-01 -1.74740811e-01]\n",
      " [-6.09710761e-02  2.02344746e+00 -2.00000000e+00  7.30815236e-01\n",
      "  -7.30815236e-01 -3.92232270e-01  3.92232270e-01  4.84776217e-01\n",
      "   9.06001993e-02 -1.11016288e-01 -1.74740811e-01]\n",
      " [-6.09710761e-02 -4.94206062e-01  5.00000000e-01 -1.36833491e+00\n",
      "   1.36833491e+00 -3.92232270e-01  3.92232270e-01 -1.93408128e-01\n",
      "  -8.23025736e-01 -4.18736126e-01 -1.74740811e-01]\n",
      " [-6.09710761e-02 -4.94206062e-01  5.00000000e-01  7.30815236e-01\n",
      "  -7.30815236e-01 -3.92232270e-01  3.92232270e-01  4.84776217e-01\n",
      "  -1.04149532e-02 -2.94945058e-01 -1.74740811e-01]\n",
      " [-6.09710761e-02 -4.94206062e-01  5.00000000e-01  7.30815236e-01\n",
      "  -7.30815236e-01 -3.92232270e-01  3.92232270e-01  4.84776217e-01\n",
      "   2.46612490e-01 -4.72510966e-01 -1.74740811e-01]\n",
      " [-6.09710761e-02  2.02344746e+00 -2.00000000e+00  7.30815236e-01\n",
      "  -7.30815236e-01 -3.92232270e-01  3.92232270e-01  1.45684045e-01\n",
      "  -9.57166376e-02  1.75461002e-01 -1.74740811e-01]\n",
      " [-6.09710761e-02 -4.94206062e-01  5.00000000e-01 -1.36833491e+00\n",
      "   1.36833491e+00  2.54950976e+00 -2.54950976e+00  1.45684045e-01\n",
      "  -8.17413783e-01 -4.68252553e-01 -1.74740811e-01]\n",
      " [-6.09710761e-02 -4.94206062e-01  5.00000000e-01  7.30815236e-01\n",
      "  -7.30815236e-01 -3.92232270e-01  3.92232270e-01  4.84776217e-01\n",
      "   6.50673101e-01 -3.19703271e-01 -1.74740811e-01]\n",
      " [-6.09710761e-02 -4.94206062e-01  5.00000000e-01  7.30815236e-01\n",
      "  -7.30815236e-01 -3.92232270e-01  3.92232270e-01 -8.71592474e-01\n",
      "  -3.78559065e-01  4.72559565e-01 -1.74740811e-01]\n",
      " [-6.09710761e-02 -4.94206062e-01  5.00000000e-01 -1.36833491e+00\n",
      "   1.36833491e+00 -3.92232270e-01  3.92232270e-01  8.23868390e-01\n",
      "  -7.69150988e-01 -9.26279505e-01 -1.74740811e-01]\n",
      " [-6.09710761e-02 -4.94206062e-01  5.00000000e-01 -1.36833491e+00\n",
      "   1.36833491e+00 -3.92232270e-01  3.92232270e-01  1.16296056e+00\n",
      "  -7.78130113e-01 -6.66318262e-01 -1.74740811e-01]\n",
      " [-6.09710761e-02 -4.94206062e-01  5.00000000e-01 -1.36833491e+00\n",
      "   1.36833491e+00 -3.92232270e-01  3.92232270e-01  1.16296056e+00\n",
      "  -8.17413783e-01 -5.67285407e-01 -1.74740811e-01]\n",
      " [-6.09710761e-02  2.02344746e+00 -2.00000000e+00  7.30815236e-01\n",
      "  -7.30815236e-01 -3.92232270e-01  3.92232270e-01  4.84776217e-01\n",
      "   6.50673101e-01  7.44899915e-01 -1.74740811e-01]\n",
      " [-6.09710761e-02 -4.94206062e-01  5.00000000e-01  7.30815236e-01\n",
      "  -7.30815236e-01 -3.92232270e-01  3.92232270e-01  4.84776217e-01\n",
      "  -2.24791555e-01  5.22393723e-02 -1.74740811e-01]\n",
      " [-6.09710761e-02 -4.94206062e-01  5.00000000e-01 -1.36833491e+00\n",
      "   1.36833491e+00 -3.92232270e-01  3.92232270e-01  1.45684045e-01\n",
      "  -6.06404353e-01 -7.65351117e-01 -1.74740811e-01]\n",
      " [-6.09710761e-02  2.02344746e+00 -2.00000000e+00  7.30815236e-01\n",
      "  -7.30815236e-01 -3.92232270e-01  3.92232270e-01  1.45684045e-01\n",
      "   6.95568724e-01  6.21108847e-01 -1.74740811e-01]\n",
      " [-6.09710761e-02 -4.94206062e-01  5.00000000e-01 -1.36833491e+00\n",
      "   1.36833491e+00 -3.92232270e-01  3.92232270e-01  8.23868390e-01\n",
      "  -8.15169002e-01 -5.92043621e-01 -1.74740811e-01]\n",
      " [-6.09710761e-02 -4.94206062e-01  5.00000000e-01  7.30815236e-01\n",
      "  -7.30815236e-01  2.54950976e+00 -2.54950976e+00  8.23868390e-01\n",
      "   6.50673101e-01 -1.77269268e-01 -1.74740811e-01]\n",
      " [-6.09710761e-02 -4.94206062e-01  5.00000000e-01 -1.36833491e+00\n",
      "   1.36833491e+00 -3.92232270e-01  3.92232270e-01  1.45684045e-01\n",
      "  -7.77007722e-01 -7.40592903e-01 -1.74740811e-01]\n",
      " [-6.09710761e-02  2.02344746e+00 -2.00000000e+00  7.30815236e-01\n",
      "  -7.30815236e-01 -3.92232270e-01  3.92232270e-01  4.84776217e-01\n",
      "   2.89263333e-01  1.75461002e-01 -1.74740811e-01]\n",
      " [-6.09710761e-02 -4.94206062e-01  5.00000000e-01 -1.36833491e+00\n",
      "   1.36833491e+00 -3.92232270e-01  3.92232270e-01  8.23868390e-01\n",
      "  -7.85986847e-01 -4.43494339e-01 -1.74740811e-01]\n",
      " [-6.09710761e-02 -4.94206062e-01  5.00000000e-01 -1.36833491e+00\n",
      "   1.36833491e+00 -3.92232270e-01  3.92232270e-01 -2.22796117e+00\n",
      "  -7.91598800e-01  2.74493856e-01  3.75692744e+00]\n",
      " [-6.09710761e-02 -4.94206062e-01  5.00000000e-01  7.30815236e-01\n",
      "  -7.30815236e-01 -3.92232270e-01  3.92232270e-01  8.23868390e-01\n",
      "  -3.78559065e-01 -6.29180942e-01 -1.74740811e-01]\n",
      " [-6.09710761e-02 -4.94206062e-01  5.00000000e-01  7.30815236e-01\n",
      "  -7.30815236e-01 -3.92232270e-01  3.92232270e-01 -8.71592474e-01\n",
      "  -4.09986001e-01 -8.09915901e-01 -1.74740811e-01]\n",
      " [-6.09710761e-02 -4.94206062e-01  5.00000000e-01 -1.36833491e+00\n",
      "   1.36833491e+00  2.54950976e+00 -2.54950976e+00  1.16296056e+00\n",
      "  -8.18536174e-01 -8.39625757e-01 -1.74740811e-01]]\n"
     ]
    }
   ],
   "source": [
    "print(X_test)"
   ]
  },
  {
   "cell_type": "code",
   "execution_count": 22,
   "id": "7295e062",
   "metadata": {},
   "outputs": [
    {
     "name": "stdout",
     "output_type": "stream",
     "text": [
      "(301,) (270,) (31,)\n"
     ]
    }
   ],
   "source": [
    "print(Y.shape, Y_train.shape, Y_test.shape)"
   ]
  },
  {
   "cell_type": "markdown",
   "id": "248f8ff0",
   "metadata": {},
   "source": [
    "# Model Training\n",
    "Model Training ---> Linear Regression"
   ]
  },
  {
   "cell_type": "code",
   "execution_count": 23,
   "id": "90c76c41",
   "metadata": {},
   "outputs": [],
   "source": [
    "# loading the linear regression model\n",
    "lin_reg_model = LinearRegression()"
   ]
  },
  {
   "cell_type": "code",
   "execution_count": 24,
   "id": "4a33256c",
   "metadata": {},
   "outputs": [
    {
     "data": {
      "text/plain": [
       "LinearRegression()"
      ]
     },
     "execution_count": 24,
     "metadata": {},
     "output_type": "execute_result"
    }
   ],
   "source": [
    "lin_reg_model.fit(X_train, Y_train)"
   ]
  },
  {
   "cell_type": "markdown",
   "id": "a4319279",
   "metadata": {},
   "source": [
    "Model Evaluation"
   ]
  },
  {
   "cell_type": "code",
   "execution_count": 25,
   "id": "94c9317b",
   "metadata": {},
   "outputs": [],
   "source": [
    "# prediction on training data\n",
    "training_data_prediction = lin_reg_model.predict(X_train)"
   ]
  },
  {
   "cell_type": "code",
   "execution_count": 26,
   "id": "ea00081c",
   "metadata": {},
   "outputs": [
    {
     "name": "stdout",
     "output_type": "stream",
     "text": [
      "R squared error: 0.8827144185732098\n"
     ]
    }
   ],
   "source": [
    "# R squared Error\n",
    "error_score = metrics.r2_score(Y_train, training_data_prediction)\n",
    "print(f\"R squared error: {error_score}\")"
   ]
  },
  {
   "cell_type": "markdown",
   "id": "f19c66e5",
   "metadata": {},
   "source": [
    "Visualize the Actual prices and Predicted prices"
   ]
  },
  {
   "cell_type": "code",
   "execution_count": 27,
   "id": "81491d04",
   "metadata": {},
   "outputs": [
    {
     "data": {
      "image/png": "[encoded data removed]",
      "text/plain": [
       "<Figure size 432x288 with 1 Axes>"
      ]
     },
     "metadata": {
      "needs_background": "light"
     },
     "output_type": "display_data"
    }
   ],
   "source": [
    "plt.scatter(Y_train, training_data_prediction)\n",
    "plt.xlabel(\"Actual Price\")\n",
    "plt.ylabel(\"Predicted Price\")\n",
    "plt.title(\"Actual Prices VS Predicted Prices\")\n",
    "plt.show()\n",
    "# - So most values are close to each other."
   ]
  },
  {
   "cell_type": "code",
   "execution_count": 28,
   "id": "d182a071",
   "metadata": {},
   "outputs": [],
   "source": [
    "# prediction on test data\n",
    "test_data_prediction = lin_reg_model.predict(X_test)"
   ]
  },
  {
   "cell_type": "code",
   "execution_count": 29,
   "id": "d6a93631",
   "metadata": {},
   "outputs": [
    {
     "name": "stdout",
     "output_type": "stream",
     "text": [
      "R squared error: 0.8695093348044306\n"
     ]
    }
   ],
   "source": [
    "# R squared Error\n",
    "error_score = metrics.r2_score(Y_test, test_data_prediction)\n",
    "print(f\"R squared error: {error_score}\")"
   ]
  },
  {
   "cell_type": "code",
   "execution_count": 30,
   "id": "869bfac8",
   "metadata": {},
   "outputs": [
    {
     "data": {
      "image/png": "[encoded data removed]",
      "text/plain": [
       "<Figure size 432x288 with 1 Axes>"
      ]
     },
     "metadata": {
      "needs_background": "light"
     },
     "output_type": "display_data"
    }
   ],
   "source": [
    "plt.scatter(Y_test, test_data_prediction)\n",
    "plt.xlabel(\"Actual Price\")\n",
    "plt.ylabel(\"Predicted Price\")\n",
    "plt.title(\"Actual Prices VS Predicted Prices\")\n",
    "plt.show()"
   ]
  },
  {
   "cell_type": "markdown",
   "id": "2215dd0b",
   "metadata": {},
   "source": [
    "# Model Training"
   ]
  },
  {
   "cell_type": "markdown",
   "id": "d72e8b66",
   "metadata": {},
   "source": [
    "Model Training ---> Lasso Regression"
   ]
  },
  {
   "cell_type": "code",
   "execution_count": 31,
   "id": "9e72fa80",
   "metadata": {},
   "outputs": [],
   "source": [
    "# loading the lasso regression model\n",
    "lass_reg_model = Lasso()"
   ]
  },
  {
   "cell_type": "code",
   "execution_count": 32,
   "id": "c66e061a",
   "metadata": {},
   "outputs": [
    {
     "data": {
      "text/plain": [
       "Lasso()"
      ]
     },
     "execution_count": 32,
     "metadata": {},
     "output_type": "execute_result"
    }
   ],
   "source": [
    "lass_reg_model.fit(X_train, Y_train)"
   ]
  },
  {
   "cell_type": "markdown",
   "id": "5be00184",
   "metadata": {},
   "source": [
    "Model Evaluation"
   ]
  },
  {
   "cell_type": "code",
   "execution_count": 33,
   "id": "a48b523d",
   "metadata": {},
   "outputs": [],
   "source": [
    "# prediction on training data\n",
    "training_data_prediction = lass_reg_model.predict(X_train)"
   ]
  },
  {
   "cell_type": "code",
   "execution_count": 34,
   "id": "dddca752",
   "metadata": {},
   "outputs": [
    {
     "name": "stdout",
     "output_type": "stream",
     "text": [
      "R squared error: 0.7816936773057428\n"
     ]
    }
   ],
   "source": [
    "# R squared Error\n",
    "error_score = metrics.r2_score(Y_train, training_data_prediction)\n",
    "print(f\"R squared error: {error_score}\")"
   ]
  },
  {
   "cell_type": "markdown",
   "id": "17b6078d",
   "metadata": {},
   "source": [
    "Visualize the Actual prices and Predicted prices"
   ]
  },
  {
   "cell_type": "code",
   "execution_count": 35,
   "id": "9b9f9dd1",
   "metadata": {},
   "outputs": [
    {
     "data": {
      "image/png": "[encoded data removed]",
      "text/plain": [
       "<Figure size 432x288 with 1 Axes>"
      ]
     },
     "metadata": {
      "needs_background": "light"
     },
     "output_type": "display_data"
    }
   ],
   "source": [
    "plt.scatter(Y_train, training_data_prediction)\n",
    "plt.xlabel(\"Actual Price\")\n",
    "plt.ylabel(\"Predicted Price\")\n",
    "plt.title(\"Actual Prices VS Predicted Prices\")\n",
    "plt.show()\n",
    "# - So most values are close to each other."
   ]
  },
  {
   "cell_type": "code",
   "execution_count": 36,
   "id": "23562621",
   "metadata": {},
   "outputs": [],
   "source": [
    "# prediction on test data\n",
    "test_data_prediction = lass_reg_model.predict(X_test)"
   ]
  },
  {
   "cell_type": "code",
   "execution_count": 37,
   "id": "bc6cb0ea",
   "metadata": {},
   "outputs": [
    {
     "name": "stdout",
     "output_type": "stream",
     "text": [
      "R squared error: 0.8019083851371718\n"
     ]
    }
   ],
   "source": [
    "# R squared Error\n",
    "error_score = metrics.r2_score(Y_test, test_data_prediction)\n",
    "print(f\"R squared error: {error_score}\")"
   ]
  },
  {
   "cell_type": "code",
   "execution_count": 38,
   "id": "d7cc1ff6",
   "metadata": {},
   "outputs": [
    {
     "data": {
      "image/png": "[encoded data removed]",
      "text/plain": [
       "<Figure size 432x288 with 1 Axes>"
      ]
     },
     "metadata": {
      "needs_background": "light"
     },
     "output_type": "display_data"
    }
   ],
   "source": [
    "plt.scatter(Y_test, test_data_prediction)\n",
    "plt.xlabel(\"Actual Price\")\n",
    "plt.ylabel(\"Predicted Price\")\n",
    "plt.title(\"Actual Prices VS Predicted Prices\")\n",
    "plt.show()"
   ]
  },
  {
   "cell_type": "markdown",
   "id": "398454f9",
   "metadata": {},
   "source": [
    "# Model Training"
   ]
  },
  {
   "cell_type": "markdown",
   "id": "9a62ea59",
   "metadata": {},
   "source": [
    "Model Training ---> XGBoost Regressor"
   ]
  },
  {
   "cell_type": "code",
   "execution_count": 39,
   "id": "9eacb230",
   "metadata": {},
   "outputs": [],
   "source": [
    "model = XGBRegressor()"
   ]
  },
  {
   "cell_type": "code",
   "execution_count": 40,
   "id": "e6ffb065",
   "metadata": {},
   "outputs": [
    {
     "data": {
      "text/plain": [
       "XGBRegressor(base_score=0.5, booster='gbtree', callbacks=None,\n",
       "             colsample_bylevel=1, colsample_bynode=1, colsample_bytree=1,\n",
       "             early_stopping_rounds=None, enable_categorical=False,\n",
       "             eval_metric=None, gamma=0, gpu_id=-1, grow_policy='depthwise',\n",
       "             importance_type=None, interaction_constraints='',\n",
       "             learning_rate=0.300000012, max_bin=256, max_cat_to_onehot=4,\n",
       "             max_delta_step=0, max_depth=6, max_leaves=0, min_child_weight=1,\n",
       "             missing=nan, monotone_constraints='()', n_estimators=100, n_jobs=0,\n",
       "             num_parallel_tree=1, predictor='auto', random_state=0, reg_alpha=0,\n",
       "             reg_lambda=1, ...)"
      ]
     },
     "execution_count": 40,
     "metadata": {},
     "output_type": "execute_result"
    }
   ],
   "source": [
    "model.fit(X_train, Y_train)"
   ]
  },
  {
   "cell_type": "markdown",
   "id": "5a98f626",
   "metadata": {},
   "source": [
    "Evaluation\n",
    "1. R Squared Error\n",
    "2. Mean Absolute Error"
   ]
  },
  {
   "cell_type": "markdown",
   "id": "82d18e8f",
   "metadata": {},
   "source": [
    "Prediction on training data"
   ]
  },
  {
   "cell_type": "code",
   "execution_count": 41,
   "id": "00740f0e",
   "metadata": {},
   "outputs": [],
   "source": [
    "training_data_prediction = model.predict(X_train)"
   ]
  },
  {
   "cell_type": "code",
   "execution_count": 42,
   "id": "cc1c267f",
   "metadata": {},
   "outputs": [
    {
     "name": "stdout",
     "output_type": "stream",
     "text": [
      "[ 2.7497385   5.29012     9.707071    0.21910983  5.9664187   8.376411\n",
      "  5.7726583   7.484542    5.199158   15.993424    0.79624665  0.4023785\n",
      "  0.36596254  4.9168572   9.220988    0.38251746  6.0464816  19.744726\n",
      "  2.5594828   6.853519    0.4518342   7.0737076   0.7156434   0.88199013\n",
      "  0.3664727   0.39512128  3.985437    0.4327708   0.1089114  11.244416\n",
      "  9.1035795   1.3603262   2.854528    0.49016628  1.5034752   2.497306\n",
      "  1.1300797   0.6169014   0.75165796  0.50516206  3.7841136   4.852352\n",
      "  0.55694985  2.747604    4.572154    0.48084465  1.3564912   7.3969274\n",
      "  4.484366    5.371888    3.4881485   2.8943753   5.2049737   1.1495482\n",
      "  0.5218579   2.8518722   1.9639448   4.516873    1.1047801   4.5005136\n",
      "  6.27588     5.1113853   1.1815027  32.99967     2.260871    5.642755\n",
      "  2.2506886   3.2510474   2.504026   11.502497    0.6674867   2.9957056\n",
      "  0.30017126  1.4611881  12.877749    2.9477212   0.19194177  4.5032296\n",
      " 14.25296     0.40274742  0.4107274   1.2229767   6.7452917   0.49569842\n",
      "  7.5060086  22.999931    1.6959693   0.31226942  1.066276    9.246404\n",
      "  5.2578506   7.254094   14.513643    9.25219     3.532061    1.1333724\n",
      "  5.2007847   0.29931375  1.1211843  10.122712    0.57749313  8.984434\n",
      "  0.30586585  0.58895344  3.79623    10.25193     7.4437294   0.35295194\n",
      "  3.3324382   7.4979057   0.40581292  2.0334344   4.005918    0.2009909\n",
      "  5.7842035   1.9485028   3.6988783   4.7540355   0.59510994  1.009211\n",
      "  0.45132944  1.3524915   3.0150383   0.25000277  0.2715443   6.5222063\n",
      "  4.793939    0.61223835  1.1598678   8.6722555   4.7460985   1.2359877\n",
      "  8.727517    4.9794393   2.1024206   0.20127803  4.9207253   6.008492\n",
      "  5.2373066   3.1621444   1.0493897   7.1762166   3.246111    0.2091776\n",
      "  5.251884    3.8761327   2.653841    1.1915715   5.505333    4.002633\n",
      "  3.088231   23.008774    0.16729215  0.6494032   4.806381    1.2349504\n",
      "  6.3975077   3.2444272   4.641104    3.5066154   0.25196046  5.2760334\n",
      " 18.752314    3.362416    6.004677    1.7502646   0.33671945  0.23180805\n",
      "  8.237343    0.483508   23.496136    2.24756     8.482868    0.4762575\n",
      "  0.60333264  7.7492023  19.98448     0.45015475  3.4961982   5.0071974\n",
      "  5.4766536   7.8959565   5.980504    0.5260971   1.0081182   3.6018114\n",
      "  7.246653    2.694968    0.10261728  4.454734    4.0883646   5.2469926\n",
      "  0.5026854   5.894702    3.7069144  11.2193775   0.5590314  17.001446\n",
      "  6.216413    0.8848134   5.352078    4.5288196   4.751015    5.2962666\n",
      "  4.363862    0.7810476   3.1155488   4.492838    2.6468408   0.15773466\n",
      " 34.99278     3.9530177   3.1235945   0.6430587   6.9366      5.52704\n",
      "  5.851416    0.61102295  5.484025    8.554783    4.365993    4.1285095\n",
      "  4.9612603   5.495012   20.748648   12.486297    5.413918    0.248261\n",
      "  2.6626763   3.9533503   6.0061774   3.9033039   0.6321468   7.7506843\n",
      "  5.1503615   8.400919    0.7588817  14.887567    4.8018675  17.992987\n",
      " 14.725754    2.3764534   1.0442436  11.758382    0.17083457  3.47912\n",
      "  2.983115    4.0867314   6.0275106   2.9762392  22.999931    9.167389\n",
      "  1.6331263   0.17420606  0.4231028   1.0992631   0.9467201   6.443689\n",
      "  5.727687    1.0491085   2.916868    9.511094    5.866482    0.46313462\n",
      "  6.5972967   3.9581027   4.3944373   7.441935    7.7492023   0.41330522]\n"
     ]
    }
   ],
   "source": [
    "print(training_data_prediction)"
   ]
  },
  {
   "cell_type": "code",
   "execution_count": 43,
   "id": "c1adb98b",
   "metadata": {},
   "outputs": [
    {
     "name": "stdout",
     "output_type": "stream",
     "text": [
      "R squared error: 0.9999888216895415\n",
      "Mean Absolute Error: 0.0118614504535993\n"
     ]
    }
   ],
   "source": [
    "score_1 = metrics.r2_score(Y_train, training_data_prediction)\n",
    "\n",
    "score_2 = metrics.mean_absolute_error(Y_train, training_data_prediction)\n",
    "\n",
    "print(f\"R squared error: {score_1}\")\n",
    "print(f\"Mean Absolute Error: {score_2}\")"
   ]
  },
  {
   "cell_type": "markdown",
   "id": "ed63a247",
   "metadata": {},
   "source": [
    "Visualizing the actual Prices and predicted prices"
   ]
  },
  {
   "cell_type": "code",
   "execution_count": 44,
   "id": "ceff36e5",
   "metadata": {},
   "outputs": [
    {
     "data": {
      "image/png": "[encoded data removed]",
      "text/plain": [
       "<Figure size 432x288 with 1 Axes>"
      ]
     },
     "metadata": {
      "needs_background": "light"
     },
     "output_type": "display_data"
    }
   ],
   "source": [
    "plt.scatter(Y_train, training_data_prediction)\n",
    "plt.xlabel(\"Actual Prices\")\n",
    "plt.ylabel(\"Predicted Prices\")\n",
    "plt.title(\"Actual Price vs Predicted Price\")\n",
    "plt.show()"
   ]
  },
  {
   "cell_type": "markdown",
   "id": "2aea5ebc",
   "metadata": {},
   "source": [
    "Prediction on test data"
   ]
  },
  {
   "cell_type": "code",
   "execution_count": 45,
   "id": "a5d911b3",
   "metadata": {},
   "outputs": [],
   "source": [
    "test_data_prediction = model.predict(X_test)"
   ]
  },
  {
   "cell_type": "code",
   "execution_count": 46,
   "id": "0fed4e0d",
   "metadata": {},
   "outputs": [
    {
     "name": "stdout",
     "output_type": "stream",
     "text": [
      "[10.367255    0.53001624  3.7167053   3.1194873   9.5800705   4.797774\n",
      "  3.1410618   6.321539    0.23040728  5.694832    7.9088836   4.44517\n",
      "  0.46595922  8.71198     2.7301297   0.8279741   0.70074636  0.38856018\n",
      " 10.4639845   4.000306    1.3372196   8.988223    0.3841983   9.863952\n",
      "  0.5897085   7.135098    0.7288429   0.31937233  3.0590734   2.3611407\n",
      "  0.4623672 ]\n"
     ]
    }
   ],
   "source": [
    "print(test_data_prediction)"
   ]
  },
  {
   "cell_type": "code",
   "execution_count": 47,
   "id": "f2dc3412",
   "metadata": {},
   "outputs": [
    {
     "name": "stdout",
     "output_type": "stream",
     "text": [
      "R squared error: 0.975956556641448\n",
      "Mean Absolute Error: 0.3654590484211522\n"
     ]
    }
   ],
   "source": [
    "score_1 = metrics.r2_score(Y_test, test_data_prediction)\n",
    "\n",
    "score_2 = metrics.mean_absolute_error(Y_test, test_data_prediction)\n",
    "\n",
    "print(f\"R squared error: {score_1}\")\n",
    "print(f\"Mean Absolute Error: {score_2}\")"
   ]
  },
  {
   "cell_type": "code",
   "execution_count": 48,
   "id": "a710c0d1",
   "metadata": {},
   "outputs": [
    {
     "data": {
      "image/png": "[encoded data removed]",
      "text/plain": [
       "<Figure size 432x288 with 1 Axes>"
      ]
     },
     "metadata": {
      "needs_background": "light"
     },
     "output_type": "display_data"
    }
   ],
   "source": [
    "plt.scatter(Y_test, test_data_prediction)\n",
    "plt.xlabel(\"Actual Prices\")\n",
    "plt.ylabel(\"Predicted Prices\")\n",
    "plt.title(\"Actual Price vs Predicted Price\")\n",
    "plt.show()"
   ]
  },
  {
   "cell_type": "markdown",
   "id": "150684d6",
   "metadata": {},
   "source": [
    "# Model Training"
   ]
  },
  {
   "cell_type": "markdown",
   "id": "9a62ea59",
   "metadata": {},
   "source": [
    "Model Training ---> Polynomial Regression"
   ]
  },
  {
   "cell_type": "code",
   "execution_count": 49,
   "id": "9eacb230",
   "metadata": {},
   "outputs": [],
   "source": [
    "poly_reg = PolynomialFeatures(degree = 2)\n",
    "\n",
    "X_poly = poly_reg.fit_transform(X_train)\n",
    "\n",
    "model_LinearRegression = LinearRegression()"
   ]
  },
  {
   "cell_type": "code",
   "execution_count": 50,
   "id": "e6ffb065",
   "metadata": {},
   "outputs": [
    {
     "data": {
      "text/plain": [
       "LinearRegression()"
      ]
     },
     "execution_count": 50,
     "metadata": {},
     "output_type": "execute_result"
    }
   ],
   "source": [
    "model_LinearRegression.fit(X_poly, Y_train)"
   ]
  },
  {
   "cell_type": "markdown",
   "id": "5a98f626",
   "metadata": {},
   "source": [
    "Evaluation\n",
    "1. R Squared Error\n",
    "2. Mean Absolute Error"
   ]
  },
  {
   "cell_type": "markdown",
   "id": "82d18e8f",
   "metadata": {},
   "source": [
    "Prediction on training data"
   ]
  },
  {
   "cell_type": "code",
   "execution_count": 51,
   "id": "00740f0e",
   "metadata": {},
   "outputs": [],
   "source": [
    "training_data_prediction = model_LinearRegression.predict(X_poly)"
   ]
  },
  {
   "cell_type": "code",
   "execution_count": 52,
   "id": "cc1c267f",
   "metadata": {},
   "outputs": [
    {
     "name": "stdout",
     "output_type": "stream",
     "text": [
      "[ 3.33154297e+00  5.93457031e+00  8.96728516e+00  2.91015625e-01\n",
      "  5.71630859e+00  7.95019531e+00  6.22021484e+00  6.64062500e+00\n",
      "  5.14160156e+00  1.59985352e+01  1.10595703e+00  3.21289062e-01\n",
      "  2.80273438e-01  6.13134766e+00  7.82763672e+00  2.59277344e-01\n",
      "  5.70312500e+00  1.76489258e+01  2.63330078e+00  7.84179688e+00\n",
      "  2.20214844e-01  8.84570312e+00  5.24414062e-01  1.20654297e+00\n",
      "  2.44140625e-02  2.79785156e-01  2.82470703e+00  2.35351562e-01\n",
      "  3.67187500e-01  1.08481445e+01  7.82324219e+00  1.38720703e+00\n",
      "  3.74658203e+00  3.48632812e-01  1.19677734e+00  2.38964844e+00\n",
      "  1.08007812e+00  4.76562500e-01  7.82226562e-01  4.96582031e-01\n",
      "  4.25097656e+00  4.13769531e+00  1.72363281e-01  2.09228516e+00\n",
      "  4.61376953e+00  5.00000000e-01  1.68408203e+00  7.33105469e+00\n",
      "  4.55810547e+00  4.26708984e+00  2.80273438e+00  2.53710938e+00\n",
      "  4.42578125e+00  9.97070312e-01  2.51953125e-01  3.36621094e+00\n",
      "  2.05322266e+00  4.55615234e+00  9.85351562e-01  6.03027344e+00\n",
      "  7.56005859e+00  5.82226562e+00  1.58789062e+00  3.23789062e+01\n",
      "  2.38378906e+00  5.87158203e+00  2.83251953e+00  2.73242188e+00\n",
      "  2.51953125e+00  1.17670898e+01  9.38964844e-01  2.67578125e+00\n",
      "  5.90820312e-02  1.85351562e+00  1.13906250e+01  2.31494141e+00\n",
      "  2.48535156e-01  4.88916016e+00  1.51176758e+01  2.64648438e-01\n",
      "  3.88183594e-01  1.78320312e+00  5.71972656e+00  3.12011719e-01\n",
      "  7.60742188e+00  2.17568359e+01  2.06835938e+00  5.51757812e-02\n",
      "  1.22216797e+00  1.01752930e+01  5.10644531e+00  8.39453125e+00\n",
      "  1.38686523e+01  8.74169922e+00  3.75537109e+00  1.07470703e+00\n",
      "  4.14062500e+00 -1.25976562e-01  1.47753906e+00  1.01865234e+01\n",
      "  4.41894531e-01  9.01806641e+00 -1.13769531e-01  4.72656250e-01\n",
      "  4.49609375e+00  8.75683594e+00  6.76220703e+00  1.94238281e+00\n",
      "  2.70166016e+00  8.06933594e+00  5.39550781e-01  2.63134766e+00\n",
      "  3.67724609e+00  7.54882812e-01  5.32177734e+00  2.35742188e+00\n",
      "  3.51318359e+00  5.80419922e+00  2.04101562e-01  1.13476562e+00\n",
      "  6.09375000e-01  1.77929688e+00  2.89599609e+00  2.53906250e-01\n",
      "  1.05957031e-01  7.14990234e+00  5.78955078e+00  6.46484375e-01\n",
      "  1.40722656e+00  8.86132812e+00  4.53662109e+00  8.05664062e-01\n",
      "  7.50097656e+00  5.10058594e+00  2.08886719e+00  3.08593750e-01\n",
      "  5.36083984e+00  6.78515625e+00  5.01464844e+00  3.82519531e+00\n",
      "  1.17626953e+00  6.74755859e+00  3.79980469e+00  1.71386719e-01\n",
      "  5.24267578e+00  4.30224609e+00  2.65185547e+00  1.29345703e+00\n",
      "  5.04150391e+00  4.62792969e+00  3.87011719e+00  2.25644531e+01\n",
      " -1.56250000e-02  5.68359375e-01  5.10888672e+00  1.69921875e+00\n",
      "  6.59326172e+00  3.16503906e+00  4.56835938e+00  1.36914062e+00\n",
      "  3.22265625e-02  4.52685547e+00  2.07163086e+01  3.69824219e+00\n",
      "  6.30371094e+00  1.84912109e+00  1.94824219e-01 -2.92968750e-03\n",
      "  7.10839844e+00  2.02148438e-01  2.48906250e+01  1.65966797e+00\n",
      "  8.31298828e+00  7.15820312e-01  6.26953125e-01  9.01416016e+00\n",
      "  2.31279297e+01  4.09179688e-01  3.79785156e+00  4.79052734e+00\n",
      "  4.45703125e+00  7.16455078e+00  5.29833984e+00  7.26074219e-01\n",
      "  5.59082031e-01  4.16259766e+00  8.18847656e+00  2.50781250e+00\n",
      "  8.32031250e-01  4.08544922e+00  3.66064453e+00  4.84765625e+00\n",
      "  1.92871094e-01  5.69580078e+00  4.32080078e+00  9.75585938e+00\n",
      "  3.87207031e-01  1.48916016e+01  6.15429688e+00  6.17187500e-01\n",
      "  4.98388672e+00  5.00878906e+00  5.94042969e+00  4.99414062e+00\n",
      "  4.10742188e+00  1.05273438e+00  2.61083984e+00  4.76904297e+00\n",
      "  3.20068359e+00  1.76757812e-01  3.47944336e+01  4.73535156e+00\n",
      "  3.57519531e+00  2.74902344e-01  9.06640625e+00  5.46191406e+00\n",
      "  6.73535156e+00  7.61718750e-01  6.20263672e+00  9.74902344e+00\n",
      "  4.40576172e+00  3.15966797e+00  5.03271484e+00  5.46777344e+00\n",
      "  2.03041992e+01  1.02543945e+01  5.60058594e+00  1.61621094e-01\n",
      "  2.75341797e+00  2.87939453e+00  6.07617188e+00  3.41259766e+00\n",
      "  6.45996094e-01  7.76074219e+00  4.97949219e+00  8.53662109e+00\n",
      "  1.17919922e+00  1.30981445e+01  4.50878906e+00  1.77832031e+01\n",
      "  1.26665039e+01  2.39990234e+00  6.25488281e-01  1.12016602e+01\n",
      "  3.92089844e-01  3.34472656e+00  2.73876953e+00  4.04492188e+00\n",
      "  6.78125000e+00  3.43164062e+00  2.17568359e+01  9.51269531e+00\n",
      "  1.99072266e+00 -2.83203125e-02  2.09960938e-01  6.56738281e-01\n",
      "  8.78417969e-01  5.32910156e+00  5.68310547e+00  2.00390625e+00\n",
      "  3.24609375e+00  9.74853516e+00  6.72021484e+00  3.42773438e-01\n",
      "  6.02441406e+00  4.59082031e+00  4.39550781e+00  8.35742188e+00\n",
      "  9.01513672e+00  2.53906250e-01]\n"
     ]
    }
   ],
   "source": [
    "print(training_data_prediction)"
   ]
  },
  {
   "cell_type": "code",
   "execution_count": 53,
   "id": "c1adb98b",
   "metadata": {},
   "outputs": [
    {
     "name": "stdout",
     "output_type": "stream",
     "text": [
      "R squared error: 0.9820743525468474\n",
      "Mean Absolute Error: 0.4909576099537037\n"
     ]
    }
   ],
   "source": [
    "score_1 = metrics.r2_score(Y_train, training_data_prediction)\n",
    "\n",
    "score_2 = metrics.mean_absolute_error(Y_train, training_data_prediction)\n",
    "\n",
    "print(f\"R squared error: {score_1}\")\n",
    "print(f\"Mean Absolute Error: {score_2}\")"
   ]
  },
  {
   "cell_type": "markdown",
   "id": "ed63a247",
   "metadata": {},
   "source": [
    "Visualizing the actual Prices and predicted prices"
   ]
  },
  {
   "cell_type": "code",
   "execution_count": 54,
   "id": "ceff36e5",
   "metadata": {},
   "outputs": [
    {
     "data": {
      "image/png": "[encoded data removed]",
      "text/plain": [
       "<Figure size 432x288 with 1 Axes>"
      ]
     },
     "metadata": {
      "needs_background": "light"
     },
     "output_type": "display_data"
    }
   ],
   "source": [
    "plt.scatter(Y_train, training_data_prediction)\n",
    "plt.xlabel(\"Actual Prices\")\n",
    "plt.ylabel(\"Predicted Prices\")\n",
    "plt.title(\"Actual Price vs Predicted Price\")\n",
    "plt.show()"
   ]
  },
  {
   "cell_type": "markdown",
   "id": "2aea5ebc",
   "metadata": {},
   "source": [
    "Prediction on test data"
   ]
  },
  {
   "cell_type": "code",
   "execution_count": 55,
   "id": "a5d911b3",
   "metadata": {},
   "outputs": [],
   "source": [
    "test_data_prediction = model_LinearRegression.predict(poly_reg.transform(X_test))"
   ]
  },
  {
   "cell_type": "code",
   "execution_count": 56,
   "id": "18070ba6",
   "metadata": {},
   "outputs": [
    {
     "name": "stdout",
     "output_type": "stream",
     "text": [
      "[ 8.91796875e+00  3.60839844e-01  4.11230469e+00  3.10449219e+00\n",
      "  1.03168945e+01  4.26171875e+00 -2.19370159e+13  6.52001953e+00\n",
      "  1.90429688e-02  5.31884766e+00  6.87207031e+00  4.68359375e+00\n",
      "  3.32031250e-02  8.85400391e+00  2.24121094e+00  9.90722656e-01\n",
      "  1.00732422e+00  6.22070312e-01  1.00170898e+01  3.95312500e+00\n",
      "  1.75146484e+00  9.41259766e+00  4.74121094e-01  9.79589844e+00\n",
      "  5.10253906e-01  7.86230469e+00  6.45507812e-01  5.52734375e-01\n",
      "  3.86035156e+00  2.41650391e+00  5.07324219e-01]\n"
     ]
    }
   ],
   "source": [
    "print(test_data_prediction)"
   ]
  },
  {
   "cell_type": "code",
   "execution_count": 57,
   "id": "f2dc3412",
   "metadata": {},
   "outputs": [
    {
     "name": "stdout",
     "output_type": "stream",
     "text": [
      "R squared error: -1.1798933560063763e+24\n",
      "Mean Absolute Error: 707645674319.2524\n"
     ]
    }
   ],
   "source": [
    "score_1 = metrics.r2_score(Y_test, test_data_prediction)\n",
    "\n",
    "score_2 = metrics.mean_absolute_error(Y_test, test_data_prediction)\n",
    "\n",
    "print(f\"R squared error: {score_1}\")\n",
    "print(f\"Mean Absolute Error: {score_2}\")"
   ]
  },
  {
   "cell_type": "code",
   "execution_count": 58,
   "id": "edb761d9",
   "metadata": {},
   "outputs": [
    {
     "data": {
      "image/png": "[encoded data removed]",
      "text/plain": [
       "<Figure size 432x288 with 1 Axes>"
      ]
     },
     "metadata": {
      "needs_background": "light"
     },
     "output_type": "display_data"
    }
   ],
   "source": [
    "plt.scatter(Y_test, test_data_prediction)\n",
    "plt.xlabel(\"Actual Prices\")\n",
    "plt.ylabel(\"Predicted Prices\")\n",
    "plt.title(\"Actual Price vs Predicted Price\")\n",
    "plt.show()"
   ]
  },
  {
   "cell_type": "markdown",
   "id": "398454f9",
   "metadata": {},
   "source": [
    "# Model Training"
   ]
  },
  {
   "cell_type": "markdown",
   "id": "9a62ea59",
   "metadata": {},
   "source": [
    "Model Training ---> Support Vector Regression"
   ]
  },
  {
   "cell_type": "code",
   "execution_count": 59,
   "id": "9eacb230",
   "metadata": {},
   "outputs": [],
   "source": [
    "model_SVR = SVR(kernel = 'rbf')"
   ]
  },
  {
   "cell_type": "code",
   "execution_count": 60,
   "id": "e6ffb065",
   "metadata": {},
   "outputs": [
    {
     "data": {
      "text/plain": [
       "SVR()"
      ]
     },
     "execution_count": 60,
     "metadata": {},
     "output_type": "execute_result"
    }
   ],
   "source": [
    "model_SVR.fit(X_train, Y_train)"
   ]
  },
  {
   "cell_type": "markdown",
   "id": "5a98f626",
   "metadata": {},
   "source": [
    "Evaluation\n",
    "1. R Squared Error\n",
    "2. Mean Absolute Error"
   ]
  },
  {
   "cell_type": "markdown",
   "id": "82d18e8f",
   "metadata": {},
   "source": [
    "Prediction on training data"
   ]
  },
  {
   "cell_type": "code",
   "execution_count": 61,
   "id": "00740f0e",
   "metadata": {},
   "outputs": [],
   "source": [
    "training_data_prediction = model_SVR.predict(X_train)"
   ]
  },
  {
   "cell_type": "code",
   "execution_count": 62,
   "id": "cc1c267f",
   "metadata": {},
   "outputs": [
    {
     "name": "stdout",
     "output_type": "stream",
     "text": [
      "[ 4.15838231  5.80482747  7.36437293  0.30056406  5.85056863  7.7852778\n",
      "  5.98512785  6.1029022   4.99348761  8.00488485  1.09779668  0.65671723\n",
      "  0.38359687  5.67920334  6.73233506  0.54140147  5.90826995  8.77128054\n",
      "  3.33873898  7.15228944  0.40150804  7.23260606  0.67159165  1.13300841\n",
      "  0.30074648  0.59129565  4.10002861  0.42364538  0.35299741  7.90235847\n",
      "  6.73042927  1.25004743  4.91091049  0.56858998  2.40505872  3.19566589\n",
      "  0.8066748   0.47011731  0.89624345  0.63544751  4.49227484  6.30315509\n",
      "  0.58617952  1.51437914  5.82468023  0.71414296  1.20047106  6.19589495\n",
      "  4.35751994  4.68136031  3.58996734  2.96060965  4.89786092  0.81537433\n",
      "  0.38468874  4.39252733  1.99791122  4.35588524  0.73747702  5.51291137\n",
      "  6.57508673  5.24459446  1.12996265 13.92427252  2.24325325  5.71940569\n",
      "  2.67344424  3.34965908  3.27738333  8.94647994  0.99493523  2.90644855\n",
      "  0.64141138  1.25930541  8.66272248  2.35381186  0.80268298  4.78692876\n",
      "  9.52295215  0.64613773  0.74045613  2.21353188  5.60254139  0.66525131\n",
      "  6.22967242 15.23925919  1.30039047  0.37380446  0.99993542  8.5399877\n",
      "  4.79808789  6.981845   13.13563119  6.37324545  4.1577895   0.8021737\n",
      "  4.65837534  0.25060279  0.92148459  7.86861571  0.59828409  7.3363169\n",
      "  2.23517747  0.55225728  4.6600741   7.17160424  6.90519705  1.34095049\n",
      "  2.95573279  6.31007424  0.72484985  3.06573057  4.12373634  0.62539352\n",
      "  5.34087314  2.10786542  3.58528988  5.34546932  0.46802222  0.97890055\n",
      "  0.92285711  0.95068142  2.85459274  0.60104647  0.47348299  6.40242963\n",
      "  5.9730669   0.70900263  1.01382716  7.31586533  4.50483525  0.67153913\n",
      "  7.6415386   5.14154151  2.00018336  0.2682367   5.62472899  6.26199279\n",
      "  5.37254092  4.72189722  0.86668912  6.55717976  3.53328786  0.6266647\n",
      "  5.20095801  4.50703397  3.01152871  0.92664943  5.39963827  4.84105\n",
      "  4.77156606 14.43946481  0.2882277   0.79711247  5.42479207  1.09983893\n",
      "  6.15864018  3.35001614  4.75038365  2.710987    0.35019819  4.7734677\n",
      " 14.16370921  4.1869668   2.20045832  1.15938053  0.54403446  0.34964959\n",
      "  6.69399276  0.27096757 14.88377039  2.20876728  7.02103515  0.97512615\n",
      "  0.74876885  7.84964284 14.70407303  0.54996604  4.63118845  4.63615436\n",
      "  4.98339989  6.43078678  5.44791087  0.77395613  0.46654573  3.89666145\n",
      "  7.42121237  2.76217623  0.51400262  4.59806655  3.58480858  4.67981438\n",
      "  0.63670624  5.25933228  4.52543355  7.71384139  0.6041513   9.35660268\n",
      "  5.94826224  0.42170529  5.49241457  5.07246614  6.6479907   5.37718539\n",
      "  4.25027807  1.06943027  2.92645305  4.92505322  3.00362733  0.49121529\n",
      "  5.30883441  5.34782888  4.60398215  0.53257162  7.33406619  6.10857103\n",
      "  6.02976289  0.82830254  5.68890071  7.66565068  4.58687476  3.42040551\n",
      "  6.0422149   6.09667526 14.86786611  8.16145066  5.49978527  0.75962803\n",
      "  2.76321165  3.40769918  5.74384759  4.83938289  0.60305115  6.45893467\n",
      "  5.25012707  7.14965462  1.1071268  12.4675373   4.42230545 13.52940146\n",
      "  9.09691554  2.42010072  0.72552543  8.39106208  3.27560064  3.59493018\n",
      "  2.89982532  4.19979351  6.61822549  4.56858024 15.23925919  7.60340919\n",
      "  1.2627924   0.47731129  0.4428785   0.51314732  0.71693904  5.14688272\n",
      "  5.54641152  1.51103203  3.217043    8.19813127  6.07404305  0.54983878\n",
      "  5.85530332  4.84416758  4.01809378  6.98796935  7.84964284  0.56929843]\n"
     ]
    }
   ],
   "source": [
    "print(training_data_prediction)"
   ]
  },
  {
   "cell_type": "code",
   "execution_count": 63,
   "id": "c1adb98b",
   "metadata": {},
   "outputs": [
    {
     "name": "stdout",
     "output_type": "stream",
     "text": [
      "R squared error: 0.7046329979694044\n",
      "Mean Absolute Error: 1.1042515923717782\n"
     ]
    }
   ],
   "source": [
    "score_1 = metrics.r2_score(Y_train, training_data_prediction)\n",
    "\n",
    "score_2 = metrics.mean_absolute_error(Y_train, training_data_prediction)\n",
    "\n",
    "print(f\"R squared error: {score_1}\")\n",
    "print(f\"Mean Absolute Error: {score_2}\")"
   ]
  },
  {
   "cell_type": "markdown",
   "id": "ed63a247",
   "metadata": {},
   "source": [
    "Visualizing the actual Prices and predicted prices"
   ]
  },
  {
   "cell_type": "code",
   "execution_count": 64,
   "id": "ceff36e5",
   "metadata": {},
   "outputs": [
    {
     "data": {
      "image/png": "[encoded data removed]",
      "text/plain": [
       "<Figure size 432x288 with 1 Axes>"
      ]
     },
     "metadata": {
      "needs_background": "light"
     },
     "output_type": "display_data"
    }
   ],
   "source": [
    "plt.scatter(Y_train, training_data_prediction)\n",
    "plt.xlabel(\"Actual Prices\")\n",
    "plt.ylabel(\"Predicted Prices\")\n",
    "plt.title(\"Actual Price vs Predicted Price\")\n",
    "plt.show()"
   ]
  },
  {
   "cell_type": "markdown",
   "id": "2aea5ebc",
   "metadata": {},
   "source": [
    "Prediction on test data"
   ]
  },
  {
   "cell_type": "code",
   "execution_count": 65,
   "id": "a5d911b3",
   "metadata": {},
   "outputs": [],
   "source": [
    "test_data_prediction = model_SVR.predict(X_test)"
   ]
  },
  {
   "cell_type": "code",
   "execution_count": 66,
   "id": "f8e4c798",
   "metadata": {},
   "outputs": [
    {
     "name": "stdout",
     "output_type": "stream",
     "text": [
      "[6.47193491 0.53718129 4.35765591 4.41769338 7.19682374 4.59642032\n",
      " 3.50798081 6.95215751 0.42654587 5.3386269  6.24936555 5.80868407\n",
      " 0.27534407 7.3125421  2.27783553 1.0045127  1.01372069 0.91273284\n",
      " 7.60874264 4.42768105 1.00833541 7.32663637 0.77466111 7.17705708\n",
      " 0.70256266 7.25751944 0.77401011 0.7477397  4.76138996 2.93688772\n",
      " 0.71506009]\n"
     ]
    }
   ],
   "source": [
    "print(test_data_prediction)"
   ]
  },
  {
   "cell_type": "code",
   "execution_count": 67,
   "id": "f2dc3412",
   "metadata": {},
   "outputs": [
    {
     "name": "stdout",
     "output_type": "stream",
     "text": [
      "R squared error: 0.8372691593722159\n",
      "Mean Absolute Error: 0.8932000720772515\n"
     ]
    }
   ],
   "source": [
    "score_1 = metrics.r2_score(Y_test, test_data_prediction)\n",
    "\n",
    "score_2 = metrics.mean_absolute_error(Y_test, test_data_prediction)\n",
    "\n",
    "print(f\"R squared error: {score_1}\")\n",
    "print(f\"Mean Absolute Error: {score_2}\")"
   ]
  },
  {
   "cell_type": "code",
   "execution_count": 68,
   "id": "4df50221",
   "metadata": {},
   "outputs": [
    {
     "data": {
      "image/png": "[encoded data removed]",
      "text/plain": [
       "<Figure size 432x288 with 1 Axes>"
      ]
     },
     "metadata": {
      "needs_background": "light"
     },
     "output_type": "display_data"
    }
   ],
   "source": [
    "plt.scatter(Y_test, test_data_prediction)\n",
    "plt.xlabel(\"Actual Prices\")\n",
    "plt.ylabel(\"Predicted Prices\")\n",
    "plt.title(\"Actual Price vs Predicted Price\")\n",
    "plt.show()"
   ]
  },
  {
   "cell_type": "markdown",
   "id": "398454f9",
   "metadata": {},
   "source": [
    "# Model Training"
   ]
  },
  {
   "cell_type": "markdown",
   "id": "9a62ea59",
   "metadata": {},
   "source": [
    "Model Training ---> Decision Tree Regression"
   ]
  },
  {
   "cell_type": "code",
   "execution_count": 69,
   "id": "9eacb230",
   "metadata": {},
   "outputs": [],
   "source": [
    "model_DecisionTreeRegression = DecisionTreeRegressor(random_state = 0)"
   ]
  },
  {
   "cell_type": "code",
   "execution_count": 70,
   "id": "e6ffb065",
   "metadata": {},
   "outputs": [
    {
     "data": {
      "text/plain": [
       "DecisionTreeRegressor(random_state=0)"
      ]
     },
     "execution_count": 70,
     "metadata": {},
     "output_type": "execute_result"
    }
   ],
   "source": [
    "model_DecisionTreeRegression.fit(X_train, Y_train)"
   ]
  },
  {
   "cell_type": "markdown",
   "id": "5a98f626",
   "metadata": {},
   "source": [
    "Evaluation\n",
    "1. R Squared Error\n",
    "2. Mean Absolute Error"
   ]
  },
  {
   "cell_type": "markdown",
   "id": "82d18e8f",
   "metadata": {},
   "source": [
    "Prediction on training data"
   ]
  },
  {
   "cell_type": "code",
   "execution_count": 71,
   "id": "00740f0e",
   "metadata": {},
   "outputs": [],
   "source": [
    "training_data_prediction = model_DecisionTreeRegression.predict(X_train)"
   ]
  },
  {
   "cell_type": "code",
   "execution_count": 72,
   "id": "cc1c267f",
   "metadata": {},
   "outputs": [
    {
     "name": "stdout",
     "output_type": "stream",
     "text": [
      "[ 2.75  5.25  9.7   0.2   5.95  8.35  5.75  7.5   5.2  16.    0.8   0.4\n",
      "  0.35  4.9   9.25  0.38  6.15 19.75  2.55  6.85  0.45  7.05  0.75  0.9\n",
      "  0.38  0.4   4.    0.45  0.12 11.25  9.1   1.35  2.85  0.5   1.5   2.5\n",
      "  1.15  0.6   0.75  0.48  3.75  4.85  0.55  2.75  4.6   0.48  1.35  7.4\n",
      "  4.5   5.4   3.49  2.9   5.25  1.15  0.5   2.85  1.95  4.5   1.1   4.5\n",
      "  6.25  5.11  1.2  33.    2.25  5.65  2.25  3.25  2.5  11.5   0.65  3.\n",
      "  0.3   1.45 12.9   2.95  0.2   4.5  14.25  0.4   0.4   1.25  6.75  0.5\n",
      "  7.5  23.    1.7   0.3   1.05  9.25  5.25  7.25 14.5   9.25  3.5   1.11\n",
      "  5.25  0.3   1.1  10.11  0.6   8.99  0.31  0.6   3.8  10.25  7.45  0.35\n",
      "  3.35  7.5   0.4   2.    4.    0.2   5.8   1.95  3.75  4.75  0.6   1.05\n",
      "  0.45  1.35  3.    0.25  0.25  6.5   4.75  0.6   1.15  8.65  4.75  1.25\n",
      "  8.75  4.95  2.1   0.2   4.9   6.    5.25  3.15  1.05  7.2   3.25  0.2\n",
      "  5.25  3.9   2.65  1.2   5.5   4.    3.1  23.    0.16  0.65  4.8   1.2\n",
      "  6.4   3.25  4.65  3.51  0.25  5.3  18.75  3.35  6.    1.75  0.35  0.25\n",
      "  8.25  0.52 23.5   2.25  8.5   0.48  0.6   7.75 19.99  0.45  3.5   5.\n",
      "  5.5   7.9   6.    0.51  1.    3.6   7.25  2.7   0.1   4.4   4.1   5.25\n",
      "  0.5   5.9   3.65 11.25  0.55 17.    6.25  0.9   5.35  4.5   4.75  5.3\n",
      "  4.35  0.78  3.1   4.5   2.65  0.15 35.    3.95  3.1   0.65  6.95  5.5\n",
      "  5.85  0.6   5.5   8.55  4.4   4.15  4.95  5.5  20.75 12.5   5.4   0.25\n",
      "  2.65  4.    5.95  3.9   0.65  7.75  5.15  8.4   0.75 14.9   4.8  18.\n",
      " 14.73  2.35  1.05 11.75  0.17  3.45  3.    4.1   6.    3.   23.    9.15\n",
      "  1.65  0.18  0.42  1.1   0.95  6.45  5.75  1.05  2.9   9.5   5.85  0.45\n",
      "  6.6   3.95  4.4   7.45  7.75  0.42]\n"
     ]
    }
   ],
   "source": [
    "print(training_data_prediction)"
   ]
  },
  {
   "cell_type": "code",
   "execution_count": 73,
   "id": "c1adb98b",
   "metadata": {},
   "outputs": [
    {
     "name": "stdout",
     "output_type": "stream",
     "text": [
      "R squared error: 1.0\n",
      "Mean Absolute Error: 6.167905692361981e-19\n"
     ]
    }
   ],
   "source": [
    "score_1 = metrics.r2_score(Y_train, training_data_prediction)\n",
    "\n",
    "score_2 = metrics.mean_absolute_error(Y_train, training_data_prediction)\n",
    "\n",
    "print(f\"R squared error: {score_1}\")\n",
    "print(f\"Mean Absolute Error: {score_2}\")"
   ]
  },
  {
   "cell_type": "markdown",
   "id": "ed63a247",
   "metadata": {},
   "source": [
    "Visualizing the actual Prices and predicted prices"
   ]
  },
  {
   "cell_type": "code",
   "execution_count": 74,
   "id": "ceff36e5",
   "metadata": {},
   "outputs": [
    {
     "data": {
      "image/png": "[encoded data removed]",
      "text/plain": [
       "<Figure size 432x288 with 1 Axes>"
      ]
     },
     "metadata": {
      "needs_background": "light"
     },
     "output_type": "display_data"
    }
   ],
   "source": [
    "plt.scatter(Y_train, training_data_prediction)\n",
    "plt.xlabel(\"Actual Prices\")\n",
    "plt.ylabel(\"Predicted Prices\")\n",
    "plt.title(\"Actual Price vs Predicted Price\")\n",
    "plt.show()"
   ]
  },
  {
   "cell_type": "markdown",
   "id": "2aea5ebc",
   "metadata": {},
   "source": [
    "Prediction on test data"
   ]
  },
  {
   "cell_type": "code",
   "execution_count": 75,
   "id": "a5d911b3",
   "metadata": {},
   "outputs": [],
   "source": [
    "test_data_prediction = model_DecisionTreeRegression.predict(X_test)"
   ]
  },
  {
   "cell_type": "code",
   "execution_count": 76,
   "id": "692e7cff",
   "metadata": {},
   "outputs": [
    {
     "name": "stdout",
     "output_type": "stream",
     "text": [
      "[ 9.25  0.75  4.    3.1   9.7   5.3   2.65  7.45  0.25  5.8   7.5   4.6\n",
      "  0.25  8.65  2.9   0.9   0.6   0.48 12.5   4.15  1.35 12.5   0.48  9.15\n",
      "  0.48  6.    0.65  0.12  3.1   2.7   0.48]\n"
     ]
    }
   ],
   "source": [
    "print(test_data_prediction)"
   ]
  },
  {
   "cell_type": "code",
   "execution_count": 77,
   "id": "f2dc3412",
   "metadata": {},
   "outputs": [
    {
     "name": "stdout",
     "output_type": "stream",
     "text": [
      "R squared error: 0.9229237704374381\n",
      "Mean Absolute Error: 0.5535483870967742\n"
     ]
    }
   ],
   "source": [
    "score_1 = metrics.r2_score(Y_test, test_data_prediction)\n",
    "\n",
    "score_2 = metrics.mean_absolute_error(Y_test, test_data_prediction)\n",
    "\n",
    "print(f\"R squared error: {score_1}\")\n",
    "print(f\"Mean Absolute Error: {score_2}\")"
   ]
  },
  {
   "cell_type": "code",
   "execution_count": 78,
   "id": "37293f0b",
   "metadata": {},
   "outputs": [
    {
     "data": {
      "image/png": "[encoded data removed]",
      "text/plain": [
       "<Figure size 432x288 with 1 Axes>"
      ]
     },
     "metadata": {
      "needs_background": "light"
     },
     "output_type": "display_data"
    }
   ],
   "source": [
    "plt.scatter(Y_test, test_data_prediction)\n",
    "plt.xlabel(\"Actual Prices\")\n",
    "plt.ylabel(\"Predicted Prices\")\n",
    "plt.title(\"Actual Price vs Predicted Price\")\n",
    "plt.show()"
   ]
  },
  {
   "cell_type": "markdown",
   "id": "398454f9",
   "metadata": {},
   "source": [
    "# Model Training"
   ]
  },
  {
   "cell_type": "markdown",
   "id": "9a62ea59",
   "metadata": {},
   "source": [
    "Model Training ---> Random Forest Regression"
   ]
  },
  {
   "cell_type": "code",
   "execution_count": 79,
   "id": "9eacb230",
   "metadata": {},
   "outputs": [],
   "source": [
    "model_RandomForestRegression = RandomForestRegressor(n_estimators = 10, random_state = 0)"
   ]
  },
  {
   "cell_type": "code",
   "execution_count": 80,
   "id": "e6ffb065",
   "metadata": {},
   "outputs": [
    {
     "data": {
      "text/plain": [
       "RandomForestRegressor(n_estimators=10, random_state=0)"
      ]
     },
     "execution_count": 80,
     "metadata": {},
     "output_type": "execute_result"
    }
   ],
   "source": [
    "model_RandomForestRegression.fit(X_train, Y_train)"
   ]
  },
  {
   "cell_type": "markdown",
   "id": "5a98f626",
   "metadata": {},
   "source": [
    "Evaluation\n",
    "1. R Squared Error\n",
    "2. Mean Absolute Error"
   ]
  },
  {
   "cell_type": "markdown",
   "id": "82d18e8f",
   "metadata": {},
   "source": [
    "Prediction on training data"
   ]
  },
  {
   "cell_type": "code",
   "execution_count": 81,
   "id": "00740f0e",
   "metadata": {},
   "outputs": [],
   "source": [
    "training_data_prediction = model_RandomForestRegression.predict(X_train)"
   ]
  },
  {
   "cell_type": "code",
   "execution_count": 82,
   "id": "cc1c267f",
   "metadata": {},
   "outputs": [
    {
     "name": "stdout",
     "output_type": "stream",
     "text": [
      "[ 2.905  5.475  9.49   0.272  6.01   8.515  5.71   7.435  5.08  16.165\n",
      "  0.8    0.406  0.386  5.01   8.78   0.381  6.025 16.12   2.615  6.98\n",
      "  0.454  6.675  0.66   0.86   0.372  0.4    4.125  0.485  0.132  9.325\n",
      "  8.705  1.435  2.945  0.49   2.196  2.235  1.142  0.61   0.815  0.507\n",
      "  3.88   4.925  0.504  2.86   4.36   0.43   1.51   6.47   4.561  4.97\n",
      "  3.284  2.875  5.115  1.14   0.529  2.945  2.15   4.561  1.116  4.365\n",
      "  6.215  5.44   1.235 30.175  2.46   5.595  2.295  3.275  3.375 10.819\n",
      "  0.646  2.84   0.316  1.54  11.405  2.83   0.21   4.665 14.345  0.505\n",
      "  0.417  1.835  6.58   0.416  7.41  22.1    1.67   0.256  0.975  8.525\n",
      "  5.215  7.7   15.115  7.855  4.075  1.126  4.945  0.275  1.12  10.03\n",
      "  0.546  9.465  0.318  0.575  3.722  9.485  7.215  0.55   3.255  6.79\n",
      "  0.403  2.29   4.14   0.154  5.55   2.205  3.685  4.785  0.534  0.99\n",
      "  0.438  1.285  3.095  0.232  0.3    6.885  5.225  0.591  1.135  9.015\n",
      "  4.59   1.156  8.24   5.02   2.17   0.23   5.03   6.19   5.205  3.135\n",
      "  1.09   6.555  3.615  0.21   5.4    4.015  2.62   1.168  5.295  4.07\n",
      "  3.105 22.625  0.177  0.581  4.945  1.14   6.195  2.72   4.58   3.494\n",
      "  0.237  4.71  17.515  3.715  6.     1.61   0.39   0.237  7.16   0.486\n",
      " 22.423  2.435  8.645  0.472  0.587  7.78  20.119  0.41   3.33   6.02\n",
      "  5.265  7.545  5.53   0.614  1.025  3.557  7.395  2.65   0.122  4.52\n",
      "  4.27   6.005  0.535  5.88   3.8   10.461  0.59  15.493  6.075  0.96\n",
      "  5.04   4.89   5.62   5.235  4.475  0.77   3.01   4.495  2.805  0.177\n",
      " 30.275  3.98   3.5    0.525  6.83   5.5    5.82   0.625  6.535  9.585\n",
      "  4.25   4.085  5.055  5.5   21.65  10.915  5.48   0.274  2.82   3.535\n",
      "  6.56   3.93   0.64   7.76   5.145  8.42   0.753 15.235  5.2   17.573\n",
      " 14.73   2.545  1.05  11.188  0.203  3.87   3.125  4.17   6.155  3.01\n",
      " 22.1    9.256  1.61   0.254  0.489  1.085  1.02   6.031  5.505  1.695\n",
      "  2.9    8.959  6.505  0.455  6.455  4.37   4.125  7.02   7.78   0.386]\n"
     ]
    }
   ],
   "source": [
    "print(training_data_prediction)"
   ]
  },
  {
   "cell_type": "code",
   "execution_count": 83,
   "id": "c1adb98b",
   "metadata": {},
   "outputs": [
    {
     "name": "stdout",
     "output_type": "stream",
     "text": [
      "R squared error: 0.9887326017755736\n",
      "Mean Absolute Error: 0.25907037037037034\n"
     ]
    }
   ],
   "source": [
    "score_1 = metrics.r2_score(Y_train, training_data_prediction)\n",
    "\n",
    "score_2 = metrics.mean_absolute_error(Y_train, training_data_prediction)\n",
    "\n",
    "print(f\"R squared error: {score_1}\")\n",
    "print(f\"Mean Absolute Error: {score_2}\")"
   ]
  },
  {
   "cell_type": "markdown",
   "id": "ed63a247",
   "metadata": {},
   "source": [
    "Visualizing the actual Prices and predicted prices"
   ]
  },
  {
   "cell_type": "code",
   "execution_count": 84,
   "id": "ceff36e5",
   "metadata": {},
   "outputs": [
    {
     "data": {
      "image/png": "[encoded data removed]",
      "text/plain": [
       "<Figure size 432x288 with 1 Axes>"
      ]
     },
     "metadata": {
      "needs_background": "light"
     },
     "output_type": "display_data"
    }
   ],
   "source": [
    "plt.scatter(Y_train, training_data_prediction)\n",
    "plt.xlabel(\"Actual Prices\")\n",
    "plt.ylabel(\"Predicted Prices\")\n",
    "plt.title(\"Actual Price vs Predicted Price\")\n",
    "plt.show()"
   ]
  },
  {
   "cell_type": "markdown",
   "id": "2aea5ebc",
   "metadata": {},
   "source": [
    "Prediction on test data"
   ]
  },
  {
   "cell_type": "code",
   "execution_count": 85,
   "id": "a5d911b3",
   "metadata": {},
   "outputs": [],
   "source": [
    "test_data_prediction = model_RandomForestRegression.predict(X_test)"
   ]
  },
  {
   "cell_type": "code",
   "execution_count": 86,
   "id": "bd05ee8f",
   "metadata": {},
   "outputs": [
    {
     "name": "stdout",
     "output_type": "stream",
     "text": [
      "[ 7.58   0.602  3.97   3.455 10.995  4.71   3.415  6.62   0.255  5.55\n",
      "  7.61   4.175  0.31   9.015  2.555  0.86   0.651  0.428 10.015  4.21\n",
      "  1.205  7.78   0.446  9.27   0.631  7.4    0.647  0.141  3.105  2.43\n",
      "  0.43 ]\n"
     ]
    }
   ],
   "source": [
    "print(test_data_prediction)"
   ]
  },
  {
   "cell_type": "code",
   "execution_count": 87,
   "id": "f2dc3412",
   "metadata": {},
   "outputs": [
    {
     "name": "stdout",
     "output_type": "stream",
     "text": [
      "R squared error: 0.970352837340487\n",
      "Mean Absolute Error: 0.3917419354838711\n"
     ]
    }
   ],
   "source": [
    "score_1 = metrics.r2_score(Y_test, test_data_prediction)\n",
    "\n",
    "score_2 = metrics.mean_absolute_error(Y_test, test_data_prediction)\n",
    "\n",
    "print(f\"R squared error: {score_1}\")\n",
    "print(f\"Mean Absolute Error: {score_2}\")"
   ]
  },
  {
   "cell_type": "code",
   "execution_count": 88,
   "id": "6a7494dc",
   "metadata": {},
   "outputs": [
    {
     "data": {
      "image/png": "[encoded data removed]",
      "text/plain": [
       "<Figure size 432x288 with 1 Axes>"
      ]
     },
     "metadata": {
      "needs_background": "light"
     },
     "output_type": "display_data"
    }
   ],
   "source": [
    "plt.scatter(Y_test, test_data_prediction)\n",
    "plt.xlabel(\"Actual Prices\")\n",
    "plt.ylabel(\"Predicted Prices\")\n",
    "plt.title(\"Actual Price vs Predicted Price\")\n",
    "plt.show()"
   ]
  }
 ],
 "metadata": {
  "kernelspec": {
   "display_name": "Python 3 (ipykernel)",
   "language": "python",
   "name": "python3"
  },
  "language_info": {
   "codemirror_mode": {
    "name": "ipython",
    "version": 3
   },
   "file_extension": ".py",
   "mimetype": "text/x-python",
   "name": "python",
   "nbconvert_exporter": "python",
   "pygments_lexer": "ipython3",
   "version": "3.9.7"
  }
 },
 "nbformat": 4,
 "nbformat_minor": 5
}
